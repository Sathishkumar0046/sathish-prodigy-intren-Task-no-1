{
 "cells": [
  {
   "cell_type": "code",
   "execution_count": null,
   "id": "1f055108-ba51-42d8-a550-d63301ae7977",
   "metadata": {},
   "outputs": [
    {
     "name": "stdout",
     "output_type": "stream",
     "text": [
      "Caesar Cipher Program\n",
      "1. Encrypt a message\n",
      "2. Decrypt a message\n",
      "3. Exit\n"
     ]
    }
   ],
   "source": [
    "def caesar_cipher_encrypt(text, shift):\n",
    "    encrypted_text = \"\"\n",
    "    for char in text:\n",
    "        if char.isalpha():\n",
    "            shift_amount = shift % 26\n",
    "            if char.islower():\n",
    "                encrypted_text += chr((ord(char) - ord('a') + shift_amount) % 26 + ord('a'))\n",
    "            elif char.isupper():\n",
    "                encrypted_text += chr((ord(char) - ord('A') + shift_amount) % 26 + ord('A'))\n",
    "        else:\n",
    "            encrypted_text += char\n",
    "    return encrypted_text\n",
    "\n",
    "def caesar_cipher_decrypt(text, shift):\n",
    "    return caesar_cipher_encrypt(text, -shift)\n",
    "\n",
    "def main():\n",
    "    while True:\n",
    "        print(\"Caesar Cipher Program\")\n",
    "        print(\"1. Encrypt a message\")\n",
    "        print(\"2. Decrypt a message\")\n",
    "        print(\"3. Exit\")\n",
    "        choice = input(\"Enter your choice (1/2/3): \")\n",
    "\n",
    "        if choice == '1':\n",
    "            message = input(\"Enter the message to encrypt: \")\n",
    "            shift = int(input(\"Enter the shift value: \"))\n",
    "            encrypted_message = caesar_cipher_encrypt(message, shift)\n",
    "            print(f\"Encrypted message: {encrypted_message}\")\n",
    "\n",
    "        elif choice == '2':\n",
    "            message = input(\"Enter the message to decrypt: \")\n",
    "            shift = int(input(\"Enter the shift value: \"))\n",
    "            decrypted_message = caesar_cipher_decrypt(message, shift)\n",
    "            print(f\"Decrypted message: {decrypted_message}\")\n",
    "\n",
    "        elif choice == '3':\n",
    "            print(\"Exiting program...\")\n",
    "            break\n",
    "\n",
    "        else:\n",
    "            print(\"Invalid choice. Please enter 1, 2, or 3.\")\n",
    "\n",
    "if __name__ == \"__main__\":\n",
    "    main()\n"
   ]
  },
  {
   "cell_type": "code",
   "execution_count": null,
   "id": "abbd73aa-f06b-4263-a180-2d6f5f8aa723",
   "metadata": {},
   "outputs": [],
   "source": []
  }
 ],
 "metadata": {
  "kernelspec": {
   "display_name": "Python 3 (ipykernel)",
   "language": "python",
   "name": "python3"
  },
  "language_info": {
   "codemirror_mode": {
    "name": "ipython",
    "version": 3
   },
   "file_extension": ".py",
   "mimetype": "text/x-python",
   "name": "python",
   "nbconvert_exporter": "python",
   "pygments_lexer": "ipython3",
   "version": "3.11.7"
  }
 },
 "nbformat": 4,
 "nbformat_minor": 5
}
